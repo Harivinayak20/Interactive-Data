{
 "cells": [
  {
   "cell_type": "markdown",
   "id": "bbd1236a-ef48-4d80-a491-7411ae4cb5db",
   "metadata": {},
   "source": [
    "### systems check\n",
    "## Hari Vinayak darga\n",
    "# this is my home work\n",
    "\n",
    "# Running code on jupyter\n",
    "\n",
    "# Understanding features of jupyter such as how to convert a Code Cell to a Markdown Cell, how to make characters into markdown cell bold # and italics text.\n",
    "# Assigning variable, using a for loop and a function with a print statement and a return statement.\n",
    "\n",
    "\n",
    "\n",
    "\n",
    "\n"
   ]
  },
  {
   "cell_type": "markdown",
   "id": "6ff2627e-0010-4352-bebb-37702028f469",
   "metadata": {},
   "source": [
    "\n",
    "\n",
    "\n",
    "# What I Hope to Get Out of This Class\n",
    "\n",
    "## My Goals\n",
    "\n",
    "# I'm excited to learn Python and explore data science.\n",
    "\n",
    "### Focus Areas:\n",
    "\n",
    "1. Master the basics of Python.\n",
    "2. Work with data using tools like Pandas.\n",
    "3. Build practical projects.\n",
    "\n",
    "## Why It Matters\n",
    "\n",
    "This class will help me:\n",
    "- Improve my coding skills.\n",
    "- Build confidence with data.\n",
    "\n",
    "### Long-Term Goals:\n",
    "- Get proficient in Python.\n",
    "- Use it to automate tasks.\n",
    "\n",
    "![Dog Image](https://upload.wikimedia.org/wikipedia/commons/a/a9/Golden_Retriever_puppy.jpg)\n"
   ]
  },
  {
   "cell_type": "markdown",
   "id": "11fe7937-297b-4584-bfee-28c5f03ab7af",
   "metadata": {},
   "source": [
    "def say_hello():\n",
    "    print('hello')"
   ]
  },
  {
   "cell_type": "code",
   "execution_count": null,
   "id": "1b5f9c6c-c78e-4bdc-8697-f85211ea7493",
   "metadata": {
    "scrolled": true
   },
   "outputs": [],
   "source": [
    "\n",
    "\n",
    "\n",
    "\n",
    "\n"
   ]
  },
  {
   "cell_type": "markdown",
   "id": "bbb5529b-8c51-447c-bd00-cfe4dc23c41d",
   "metadata": {},
   "source": [
    "def say_hello():\n",
    "    print('hello david')\n",
    "\n",
    "\n"
   ]
  },
  {
   "cell_type": "code",
   "execution_count": 41,
   "id": "65a0be34-9fb5-4194-80c7-9dcd66116f30",
   "metadata": {},
   "outputs": [],
   "source": [
    "x = 3+1\n"
   ]
  },
  {
   "cell_type": "code",
   "execution_count": 43,
   "id": "60242611-8d29-4263-82e9-907272599130",
   "metadata": {},
   "outputs": [
    {
     "data": {
      "text/plain": [
       "4"
      ]
     },
     "execution_count": 43,
     "metadata": {},
     "output_type": "execute_result"
    }
   ],
   "source": [
    "x\n"
   ]
  },
  {
   "cell_type": "code",
   "execution_count": 47,
   "id": "c8dddea6-40bf-4707-b6eb-e9686c3be8f4",
   "metadata": {
    "scrolled": true
   },
   "outputs": [
    {
     "name": "stdout",
     "output_type": "stream",
     "text": [
      "hello david\n"
     ]
    }
   ],
   "source": [
    "say_hello()\n"
   ]
  },
  {
   "cell_type": "code",
   "execution_count": null,
   "id": "e97d5bb1-7ebc-4c92-8f74-b12d8aba42e7",
   "metadata": {},
   "outputs": [],
   "source": []
  },
  {
   "cell_type": "code",
   "execution_count": 44,
   "id": "7c523128-78b7-448a-ac81-a68ed74710f2",
   "metadata": {},
   "outputs": [
    {
     "data": {
      "text/plain": [
       "15"
      ]
     },
     "execution_count": 44,
     "metadata": {},
     "output_type": "execute_result"
    }
   ],
   "source": [
    "x = 10\n",
    "y = 5\n",
    "sum_result = x + y\n",
    "sum_result"
   ]
  },
  {
   "cell_type": "code",
   "execution_count": 49,
   "id": "164a8efe-64e8-47eb-a2d6-87d2c8854142",
   "metadata": {},
   "outputs": [
    {
     "name": "stdout",
     "output_type": "stream",
     "text": [
      "0\n",
      "1\n",
      "2\n"
     ]
    }
   ],
   "source": [
    "for i in range(3):\n",
    "    print(i)"
   ]
  },
  {
   "cell_type": "code",
   "execution_count": null,
   "id": "254c0538-c9c0-43d5-88b4-1e0c005f6856",
   "metadata": {},
   "outputs": [],
   "source": []
  },
  {
   "cell_type": "code",
   "execution_count": 51,
   "id": "eb1b1d82-6274-4ef4-9dc3-5a672c25b39e",
   "metadata": {},
   "outputs": [
    {
     "name": "stdout",
     "output_type": "stream",
     "text": [
      "1\n",
      "2\n",
      "3\n",
      "4\n"
     ]
    }
   ],
   "source": [
    "for i in [1,2,3,4]:\n",
    "    print(i)"
   ]
  },
  {
   "cell_type": "code",
   "execution_count": null,
   "id": "60227d73-0df1-4997-abdf-093c38596e7a",
   "metadata": {},
   "outputs": [],
   "source": []
  },
  {
   "cell_type": "code",
   "execution_count": 69,
   "id": "47b2320e-084a-4b0e-b2a2-71fdd16cda27",
   "metadata": {},
   "outputs": [],
   "source": [
    "\n",
    "def greet(name):\n",
    "    print(f\"Hello, {name}!\")\n",
    "    return f\"Greetings, {name}\"\n",
    "\n",
    "\n"
   ]
  },
  {
   "cell_type": "code",
   "execution_count": null,
   "id": "956100ee-6622-431b-ace0-724b218c8e41",
   "metadata": {},
   "outputs": [],
   "source": []
  },
  {
   "cell_type": "code",
   "execution_count": 77,
   "id": "516a089c-c022-4b55-b68e-4d077c45d720",
   "metadata": {},
   "outputs": [
    {
     "name": "stdout",
     "output_type": "stream",
     "text": [
      "Hello, Hari!\n"
     ]
    },
    {
     "data": {
      "text/plain": [
       "'Greetings, Hari'"
      ]
     },
     "execution_count": 77,
     "metadata": {},
     "output_type": "execute_result"
    }
   ],
   "source": [
    "greet_result = greet(\"Hari\")\n",
    "greet_result"
   ]
  },
  {
   "cell_type": "code",
   "execution_count": null,
   "id": "e3707895-ad39-436f-b3d2-64c00134794f",
   "metadata": {},
   "outputs": [],
   "source": []
  },
  {
   "cell_type": "code",
   "execution_count": 81,
   "id": "10e8998b-e3ed-4908-aba9-89892346c5a1",
   "metadata": {},
   "outputs": [
    {
     "name": "stdout",
     "output_type": "stream",
     "text": [
      "zsh:1: bad pattern: [Image\n"
     ]
    }
   ],
   "source": []
  },
  {
   "cell_type": "code",
   "execution_count": null,
   "id": "91ebbc2d-1e4f-499c-ac7e-dc3ca4320680",
   "metadata": {},
   "outputs": [],
   "source": []
  },
  {
   "cell_type": "code",
   "execution_count": null,
   "id": "0b9c3e41-786c-4c20-bbb8-19e3148d45e0",
   "metadata": {},
   "outputs": [],
   "source": []
  }
 ],
 "metadata": {
  "kernelspec": {
   "display_name": "Python [conda env:base] *",
   "language": "python",
   "name": "conda-base-py"
  },
  "language_info": {
   "codemirror_mode": {
    "name": "ipython",
    "version": 3
   },
   "file_extension": ".py",
   "mimetype": "text/x-python",
   "name": "python",
   "nbconvert_exporter": "python",
   "pygments_lexer": "ipython3",
   "version": "3.12.7"
  }
 },
 "nbformat": 4,
 "nbformat_minor": 5
}
