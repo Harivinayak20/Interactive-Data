{
 "cells": [
  {
   "cell_type": "markdown",
   "id": "ee6ed42f-50cc-47ef-a787-9347a8148c68",
   "metadata": {},
   "source": [
    "Q1, In a new Jupyter Notebook, import pandas and matplotlib.pyplot\n"
   ]
  },
  {
   "cell_type": "code",
   "execution_count": 24,
   "id": "a00fbc76-cb71-4efa-9b84-c66df7fe0e8d",
   "metadata": {},
   "outputs": [],
   "source": [
    "import pandas as pd\n",
    "import matplotlib.pyplot as plt"
   ]
  },
  {
   "cell_type": "markdown",
   "id": "89f19cce-eeb6-4d28-861a-1358a70d2777",
   "metadata": {},
   "source": [
    "Q2, Scroll through the matplotlib figure examplesLinks to an external site. and pick one style of figure you would like to learn how to create, then in a Markdown cell, explain what kind of data you would like to represent using that figure.\n",
    "\n",
    "Ans:- A horizontal bar chart is ideal for comparing the magnitude of values across different categories, making it easier to read and interpret, especially when dealing with long category names or a large number of categories. Here's a simple explanation of the kind of data we can represent using a horizontal bar chart:\n",
    "\n",
    "Survey Results: To display preferences or opinions of a group of people on various topics. Each bar could represent a different topic or choice, and the length of the bar would indicate how many people preferred that option.\n",
    "\n",
    "Company Performance Metrics: To compare the performance of different departments or products within a company over a certain period. Each bar could represent a department or product, with the length indicating a metric like sales, growth, or customer satisfaction.\n",
    "\n",
    "Population by Country or City: To compare populations across different countries or cities. Each bar can represent a country or city, with the length of the bar indicating the total population.\n",
    "\n",
    "Additionally, Horizontal bar charts are great for comparing categories where the names might be too long to fit well on a vertical axis or we can make direct comparisons easier to see at a glance.\n"
   ]
  },
  {
   "cell_type": "markdown",
   "id": "a8e25130-92a2-4e0b-b7e0-0ee0db4c7a9c",
   "metadata": {},
   "source": [
    "Q3, Import this file named cces_example_data.csv Download cces_example_data.csv using pandas.read_csv() to convert it to a DataFrame object\n",
    "\n",
    "This data already follows tidy data principles\n",
    "The variables sex, pid3, nonwhite, and Evaluation are all categorical variables, the rest can be treated as continuous\n",
    "\n"
   ]
  },
  {
   "cell_type": "code",
   "execution_count": 25,
   "id": "430bc6cc-9f0f-4772-bc6d-3600c8a7ee73",
   "metadata": {},
   "outputs": [
    {
     "data": {
      "text/html": [
       "<div>\n",
       "<style scoped>\n",
       "    .dataframe tbody tr th:only-of-type {\n",
       "        vertical-align: middle;\n",
       "    }\n",
       "\n",
       "    .dataframe tbody tr th {\n",
       "        vertical-align: top;\n",
       "    }\n",
       "\n",
       "    .dataframe thead th {\n",
       "        text-align: right;\n",
       "    }\n",
       "</style>\n",
       "<table border=\"1\" class=\"dataframe\">\n",
       "  <thead>\n",
       "    <tr style=\"text-align: right;\">\n",
       "      <th></th>\n",
       "      <th>pew_religimp</th>\n",
       "      <th>pew_churatd</th>\n",
       "      <th>sex</th>\n",
       "      <th>educ</th>\n",
       "      <th>nonwhite</th>\n",
       "      <th>age</th>\n",
       "      <th>faminc_new</th>\n",
       "      <th>pid3</th>\n",
       "      <th>ideo5</th>\n",
       "      <th>QueerPhobia</th>\n",
       "      <th>...</th>\n",
       "      <th>InterGBiasParty</th>\n",
       "      <th>InterGBiasCand</th>\n",
       "      <th>InterGBiasSup</th>\n",
       "      <th>LibMediaUse</th>\n",
       "      <th>ConMediaUse</th>\n",
       "      <th>Real_Threat</th>\n",
       "      <th>Symb_Threat</th>\n",
       "      <th>Evaluation</th>\n",
       "      <th>teamweight</th>\n",
       "      <th>caseid</th>\n",
       "    </tr>\n",
       "  </thead>\n",
       "  <tbody>\n",
       "    <tr>\n",
       "      <th>0</th>\n",
       "      <td>2</td>\n",
       "      <td>6</td>\n",
       "      <td>2</td>\n",
       "      <td>2</td>\n",
       "      <td>1</td>\n",
       "      <td>56</td>\n",
       "      <td>6</td>\n",
       "      <td>1</td>\n",
       "      <td>1</td>\n",
       "      <td>1.000000</td>\n",
       "      <td>...</td>\n",
       "      <td>-99</td>\n",
       "      <td>-99</td>\n",
       "      <td>-96</td>\n",
       "      <td>2.666667</td>\n",
       "      <td>1.000000</td>\n",
       "      <td>5.00</td>\n",
       "      <td>4.857143</td>\n",
       "      <td>0</td>\n",
       "      <td>0.505028</td>\n",
       "      <td>1231308943</td>\n",
       "    </tr>\n",
       "    <tr>\n",
       "      <th>1</th>\n",
       "      <td>2</td>\n",
       "      <td>4</td>\n",
       "      <td>2</td>\n",
       "      <td>5</td>\n",
       "      <td>1</td>\n",
       "      <td>53</td>\n",
       "      <td>13</td>\n",
       "      <td>1</td>\n",
       "      <td>2</td>\n",
       "      <td>3.000000</td>\n",
       "      <td>...</td>\n",
       "      <td>-100</td>\n",
       "      <td>-100</td>\n",
       "      <td>-100</td>\n",
       "      <td>2.000000</td>\n",
       "      <td>2.000000</td>\n",
       "      <td>5.00</td>\n",
       "      <td>5.000000</td>\n",
       "      <td>0</td>\n",
       "      <td>0.852381</td>\n",
       "      <td>1232300315</td>\n",
       "    </tr>\n",
       "    <tr>\n",
       "      <th>2</th>\n",
       "      <td>1</td>\n",
       "      <td>2</td>\n",
       "      <td>1</td>\n",
       "      <td>2</td>\n",
       "      <td>1</td>\n",
       "      <td>69</td>\n",
       "      <td>10</td>\n",
       "      <td>2</td>\n",
       "      <td>5</td>\n",
       "      <td>4.333333</td>\n",
       "      <td>...</td>\n",
       "      <td>99</td>\n",
       "      <td>99</td>\n",
       "      <td>96</td>\n",
       "      <td>1.000000</td>\n",
       "      <td>1.000000</td>\n",
       "      <td>5.00</td>\n",
       "      <td>5.000000</td>\n",
       "      <td>2</td>\n",
       "      <td>1.320189</td>\n",
       "      <td>1232358697</td>\n",
       "    </tr>\n",
       "    <tr>\n",
       "      <th>3</th>\n",
       "      <td>2</td>\n",
       "      <td>3</td>\n",
       "      <td>1</td>\n",
       "      <td>6</td>\n",
       "      <td>1</td>\n",
       "      <td>76</td>\n",
       "      <td>97</td>\n",
       "      <td>1</td>\n",
       "      <td>3</td>\n",
       "      <td>1.000000</td>\n",
       "      <td>...</td>\n",
       "      <td>-86</td>\n",
       "      <td>-91</td>\n",
       "      <td>-89</td>\n",
       "      <td>4.666667</td>\n",
       "      <td>1.333333</td>\n",
       "      <td>4.25</td>\n",
       "      <td>4.428571</td>\n",
       "      <td>0</td>\n",
       "      <td>0.519198</td>\n",
       "      <td>1232540961</td>\n",
       "    </tr>\n",
       "    <tr>\n",
       "      <th>4</th>\n",
       "      <td>4</td>\n",
       "      <td>5</td>\n",
       "      <td>2</td>\n",
       "      <td>6</td>\n",
       "      <td>1</td>\n",
       "      <td>83</td>\n",
       "      <td>4</td>\n",
       "      <td>1</td>\n",
       "      <td>2</td>\n",
       "      <td>1.000000</td>\n",
       "      <td>...</td>\n",
       "      <td>-80</td>\n",
       "      <td>-88</td>\n",
       "      <td>-87</td>\n",
       "      <td>4.666667</td>\n",
       "      <td>3.666667</td>\n",
       "      <td>4.25</td>\n",
       "      <td>5.000000</td>\n",
       "      <td>0</td>\n",
       "      <td>1.154005</td>\n",
       "      <td>1232580601</td>\n",
       "    </tr>\n",
       "  </tbody>\n",
       "</table>\n",
       "<p>5 rows × 21 columns</p>\n",
       "</div>"
      ],
      "text/plain": [
       "   pew_religimp  pew_churatd  sex  educ  nonwhite  age  faminc_new  pid3  \\\n",
       "0             2            6    2     2         1   56           6     1   \n",
       "1             2            4    2     5         1   53          13     1   \n",
       "2             1            2    1     2         1   69          10     2   \n",
       "3             2            3    1     6         1   76          97     1   \n",
       "4             4            5    2     6         1   83           4     1   \n",
       "\n",
       "   ideo5  QueerPhobia  ...  InterGBiasParty  InterGBiasCand  InterGBiasSup  \\\n",
       "0      1     1.000000  ...              -99             -99            -96   \n",
       "1      2     3.000000  ...             -100            -100           -100   \n",
       "2      5     4.333333  ...               99              99             96   \n",
       "3      3     1.000000  ...              -86             -91            -89   \n",
       "4      2     1.000000  ...              -80             -88            -87   \n",
       "\n",
       "   LibMediaUse  ConMediaUse  Real_Threat  Symb_Threat  Evaluation  teamweight  \\\n",
       "0     2.666667     1.000000         5.00     4.857143           0    0.505028   \n",
       "1     2.000000     2.000000         5.00     5.000000           0    0.852381   \n",
       "2     1.000000     1.000000         5.00     5.000000           2    1.320189   \n",
       "3     4.666667     1.333333         4.25     4.428571           0    0.519198   \n",
       "4     4.666667     3.666667         4.25     5.000000           0    1.154005   \n",
       "\n",
       "       caseid  \n",
       "0  1231308943  \n",
       "1  1232300315  \n",
       "2  1232358697  \n",
       "3  1232540961  \n",
       "4  1232580601  \n",
       "\n",
       "[5 rows x 21 columns]"
      ]
     },
     "execution_count": 25,
     "metadata": {},
     "output_type": "execute_result"
    }
   ],
   "source": [
    "cces = pd.read_csv('cces_example_data.csv')\n",
    "cces.head()"
   ]
  },
  {
   "cell_type": "markdown",
   "id": "2f4da540-ae71-4f85-a5ea-088fc1093ad7",
   "metadata": {},
   "source": [
    "Q4, Create and show in your notebook an empty figure that contains two axes Set the title for the first axis as \"Age Histogram\" Set the title for the second axis as \"Political Identity\"\n",
    "\n",
    "\n"
   ]
  },
  {
   "cell_type": "code",
   "execution_count": 26,
   "id": "09ac1760-bbcb-45e0-aa83-6ea55675590c",
   "metadata": {},
   "outputs": [
    {
     "data": {
      "image/png": "[encoded data removed]",
      "text/plain": [
       "<Figure size 1000x400 with 2 Axes>"
      ]
     },
     "metadata": {},
     "output_type": "display_data"
    }
   ],
   "source": [
    "fig1, ax1 = plt.subplots(1, 2, figsize=(10, 4))\n",
    "ax1[0].set_title(\"Age Histogram\")\n",
    "ax1[1].set_title(\"Political Identity\")\n",
    "plt.show()"
   ]
  },
  {
   "cell_type": "markdown",
   "id": "862babc1-7261-4573-87b2-c258c56190fb",
   "metadata": {},
   "source": [
    "Q5, In a new code cell, create and show a figure that includes one axis with a bar plot of the Evaluation variable"
   ]
  },
  {
   "cell_type": "code",
   "execution_count": 27,
   "id": "9c5d94e9-8265-433e-9641-1e82e5bf3a10",
   "metadata": {},
   "outputs": [
    {
     "data": {
      "text/plain": [
       "Evaluation\n",
       "0    365\n",
       "1     48\n",
       "2    202\n",
       "3     44\n",
       "Name: caseid, dtype: int64"
      ]
     },
     "execution_count": 27,
     "metadata": {},
     "output_type": "execute_result"
    }
   ],
   "source": [
    "Evaluation_freq = cces.groupby('Evaluation')['caseid'].count()\n",
    "Evaluation_freq"
   ]
  },
  {
   "cell_type": "code",
   "execution_count": 28,
   "id": "55f5a3eb-011c-4ecd-bdf9-fd469b2f849d",
   "metadata": {},
   "outputs": [
    {
     "data": {
      "text/plain": [
       "Index([0, 1, 2, 3], dtype='int64', name='Evaluation')"
      ]
     },
     "execution_count": 28,
     "metadata": {},
     "output_type": "execute_result"
    }
   ],
   "source": [
    "Evaluation_freq.index"
   ]
  },
  {
   "cell_type": "code",
   "execution_count": 29,
   "id": "f307de1c-c636-4bc5-8744-8f477fffdd9e",
   "metadata": {},
   "outputs": [
    {
     "data": {
      "text/plain": [
       "count      4.000000\n",
       "mean     164.750000\n",
       "std      152.423478\n",
       "min       44.000000\n",
       "25%       47.000000\n",
       "50%      125.000000\n",
       "75%      242.750000\n",
       "max      365.000000\n",
       "Name: caseid, dtype: float64"
      ]
     },
     "execution_count": 29,
     "metadata": {},
     "output_type": "execute_result"
    }
   ],
   "source": [
    "Evaluation_freq.describe()\n"
   ]
  },
  {
   "cell_type": "code",
   "execution_count": 30,
   "id": "9c31b8f6-b4cd-4f0a-ba7a-a60b4383e637",
   "metadata": {},
   "outputs": [
    {
     "data": {
      "image/png": "[encoded data removed]",
      "text/plain": [
       "<Figure size 640x480 with 1 Axes>"
      ]
     },
     "metadata": {},
     "output_type": "display_data"
    }
   ],
   "source": [
    "fig2, ax2 = plt.subplots()\n",
    "ax2.bar(x=Evaluation_freq.index, height=Evaluation_freq)\n",
    "plt.show()"
   ]
  },
  {
   "cell_type": "markdown",
   "id": "061fff36-9058-43cf-9e26-8069782f74e2",
   "metadata": {},
   "source": [
    "Q6, In a new code cell, create and show a figure that includes one axis with a scatter plot of the ConMediaUse and ImmiPhobia variable"
   ]
  },
  {
   "cell_type": "code",
   "execution_count": 31,
   "id": "550cd339-53e3-4edf-9f01-3e38fafbe3a6",
   "metadata": {},
   "outputs": [
    {
     "data": {
      "image/png": "[encoded data removed]",
      "text/plain": [
       "<Figure size 640x480 with 1 Axes>"
      ]
     },
     "metadata": {},
     "output_type": "display_data"
    }
   ],
   "source": [
    "fig, ax3 = plt.subplots()\n",
    "ax3.scatter(x = cces['ConMediaUse'],y = cces['ImmiPhobia'], color='blue')\n",
    "ax3.set_title('ConMediaUse vs ImmiPhobia')\n",
    "ax3.set_xlabel('ConMediaUse')\n",
    "ax3.set_ylabel('ImmiPhobia')\n",
    "plt.show()"
   ]
  },
  {
   "cell_type": "code",
   "execution_count": null,
   "id": "8d2c363c-cdad-4ffc-9210-597290e77005",
   "metadata": {},
   "outputs": [],
   "source": []
  }
 ],
 "metadata": {
  "kernelspec": {
   "display_name": "Python 3 (ipykernel)",
   "language": "python",
   "name": "python3"
  },
  "language_info": {
   "codemirror_mode": {
    "name": "ipython",
    "version": 3
   },
   "file_extension": ".py",
   "mimetype": "text/x-python",
   "name": "python",
   "nbconvert_exporter": "python",
   "pygments_lexer": "ipython3",
   "version": "3.12.8"
  }
 },
 "nbformat": 4,
 "nbformat_minor": 5
}
